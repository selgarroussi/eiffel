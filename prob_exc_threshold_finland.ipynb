{
 "cells": [
  {
   "cell_type": "markdown",
   "id": "golden-maximum",
   "metadata": {},
   "source": [
    "# Assessing fire danger in a changing climate\n",
    "## A 30-year fire weather index (FWI) exceedance probability analysis"
   ]
  },
  {
   "cell_type": "markdown",
   "id": "dd5ee01b-aeb3-4d0b-866f-a352caf01b88",
   "metadata": {},
   "source": [
    "### Definitions\n",
    "\n",
    "Before diving into the analysis, let's define a couple of terms that are crucial to this study:\n",
    "<div style=\"border:2px solid #009BFF; background-color: #E0F7FA; padding: 10px; border-radius: 10px;\">\n",
    "    <p><b style=\"color: #01579B;\">Fire Weather Index (FWI):</b> The FWI is a component of the Canadian Forest Fire Weather Index System, serving as a numerical measure of fire intensity. It is derived from weather observations including temperature, humidity, wind speed, and precipitation. The FWI is instrumental in estimating the potential land flammability and severity of wildfires, thereby helping in fire management and mitigation efforts.</p>\n",
    "    <p><b style=\"color: #01579B;\">Probability of Exceedance:</b> This statistical measure indicates the likelihood that a certain variable, in our case the FWI, will surpass a predefined threshold. It is expressed as a probability, ranging from 0 to 1, where a higher value signifies a greater chance of exceeding the specified FWI threshold. Understanding the probability of exceedance is essential for assessing fire risk under various climate scenarios and making informed decisions for fire prevention and safety planning.</p>\n",
    "</div>"
   ]
  },
  {
   "cell_type": "code",
   "execution_count": 4,
   "id": "e90052b9-37c2-4ce6-aff0-00783ad699e4",
   "metadata": {
    "tags": []
   },
   "outputs": [
    {
     "name": "stdout",
     "output_type": "stream",
     "text": [
      "Could not find manifest file for plugin int.ecmwf.atlas-orca\n",
      "Could not find manifest file for plugin int.ecmwf.atlas-orca\n"
     ]
    }
   ],
   "source": [
    "### Import external libraries \n",
    "import metview as mv\n",
    "import numpy as np \n",
    "import pandas as pd\n",
    "from sklearn.pipeline import make_pipeline\n",
    "from sklearn.linear_model import Ridge\n",
    "from sklearn.preprocessing import SplineTransformer, PolynomialFeatures\n",
    "from sklearn.linear_model import LinearRegression\n",
    "from sklearn.metrics import mean_squared_error\n",
    "\n",
    "import matplotlib.pyplot as plt\n",
    "import seaborn as sns\n",
    "from matplotlib import cm"
   ]
  },
  {
   "cell_type": "markdown",
   "id": "96777f3b-4feb-4f4c-9792-3805c5349377",
   "metadata": {},
   "source": [
    "### Data context\n",
    "\n",
    "Our analysis is initially focused on fire weather conditions across several key locations in Finland: Jokioinen, Sodankylä, Vantaa, and Jyväskylä. These locations have been chosen due to their distinct climatic conditions, providing a diverse view of fire weather potential across the country.\n",
    "The data extraction process is designed with flexibility in mind. Given latitude and longitude coordinates, the analysis can be extended to any location of interest within or beyond Finland. "
   ]
  },
  {
   "cell_type": "code",
   "execution_count": 5,
   "id": "individual-python",
   "metadata": {},
   "outputs": [],
   "source": [
    "stations = ['Vanta', 'Jokioinen', 'Juvaskyla', 'Sodankyla']\n",
    "station_index = 3 # Assuming you're interested in Sodankyla. Remember that in Python, the count starts from 0\n",
    "\n",
    "var = \"fwi\"\n",
    "station = stations[station_index] "
   ]
  },
  {
   "cell_type": "markdown",
   "id": "54f53814-90ab-4cf5-8137-0101dcb3248e",
   "metadata": {},
   "source": [
    "### Data analysis\n",
    "\n",
    "The calculate_fwi_exceed_proba function is an important component of the fire risk assessment toolkit, designed to predict the probability that the FWI will exceed a specified threshold. It helps in understanding the potential for fire weather conditions under different climate scenarios. \n",
    "The function integrates meteorological data, including temperature and precipitation changes (dt and dp respectively) w.r.t to the baseline scenario, to assess how these changes might affect the FWI at a given location (station). It then calculates the probability that the FWI exceeds a predefined threshold, offering insights into potential fire weather conditions."
   ]
  },
  {
   "cell_type": "code",
   "execution_count": 6,
   "id": "shared-sweet",
   "metadata": {},
   "outputs": [],
   "source": [
    "def calculate_fwi_exceed_proba(dt, dp, var, station, threshold):\n",
    "    # Construct the filename and read the grib file\n",
    "    path = '/home/masg/to_share/climax_fire/data/fwi_finland' \n",
    "    filename = f'point_{station}_{dt}_{dp}_1981_2010_{var}.grib'\n",
    "    fwi = mv.read(f'{path}/{filename}')\n",
    "    v_fwi = fwi.values()\n",
    "\n",
    "    # Generate the date range and convert data to a timeserie\n",
    "    dates = pd.date_range(start='1981-01-01', periods=len(v_fwi), freq='D')\n",
    "    data = pd.Series(v_fwi.flatten(), index=dates)\n",
    "\n",
    "    # Calculate yearly maximum FWI\n",
    "    fwi_max = data.resample('Y').max()\n",
    "\n",
    "    # Prepare the DataFrame for analysis\n",
    "    df = fwi_max.to_frame(name=\"FWI\")\n",
    "    df['Rank'] = df.rank(method='min', ascending=False)\n",
    "    df['PE'] = (df['Rank'] / (len(df) + 1)) * 100  # Applying Weibull formula\n",
    "\n",
    "    # Sort the DataFrame based on FWI values\n",
    "    df_sorted = df.sort_values(by='FWI', ascending=False)\n",
    "\n",
    "    # Prepare data for modeling\n",
    "    X = df_sorted['FWI'].values.reshape(-1, 1)\n",
    "    y = df_sorted['PE'].values\n",
    "\n",
    "    # Fit a B-spline model\n",
    "    model = make_pipeline(SplineTransformer(n_knots=5, degree=3), Ridge(alpha=1e-3))\n",
    "    model.fit(X, y)\n",
    "\n",
    "    # Predict the probability of exceedance for the given threshold\n",
    "    y_pred = model.predict(np.array([threshold]).reshape(-1, 1))\n",
    "    predicted_pe = y_pred[0]\n",
    "\n",
    "    ### Print key information \n",
    "    print_key_info = False\n",
    "    if print_key_info: \n",
    "        # Dynamic explanation for temperature perturbation\n",
    "        temperature_change = \"an increase\" if dt > 0 else \"a decrease\"\n",
    "        temperature_magnitude = abs(dt)\n",
    "        # Dynamic explanation for precipitation factor\n",
    "        precipitation_change = \"an increase\" if dp > 1 else \"a decrease\"\n",
    "        precipitation_magnitude = ((abs(float(dp) - 1) * 100) if dp != 1 else 0)\n",
    "        print(f\"For a climate scenario defined by {temperature_change} in temperature by {temperature_magnitude:.1f}°C \"\n",
    "          f\"and {precipitation_change} in precipitation by {precipitation_magnitude:.0f}% with respect to the baseline scenario, \"\n",
    "          f\"the predicted probability of exceeding a FWI threshold of {threshold}, is {predicted_pe:.3f}%.\")\n",
    "\n",
    "    # Return the predicted probability of exceedance for the threshold\n",
    "    return predicted_pe"
   ]
  },
  {
   "cell_type": "code",
   "execution_count": 7,
   "id": "official-reverse",
   "metadata": {},
   "outputs": [
    {
     "name": "stdout",
     "output_type": "stream",
     "text": [
      "The exceedance probability computation function is now running.\n",
      "Please wait approximately 1 minute...\n"
     ]
    }
   ],
   "source": [
    "# Let's assume that we're interested in a FWI threshold of 30; High fire danger\n",
    "threshold = 30\n",
    "\n",
    "# Initialise an empty list to store results\n",
    "results = []\n",
    "\n",
    "print(\"The exceedance probability computation function is now running.\")\n",
    "print(f\"Please wait approximately 2 minutes...\")\n",
    "# Use numpy to generate perturbations of temperature (t) and precipitation (p)\n",
    "for t in np.arange(0.0, 7.0, 1.0):\n",
    "    for p in np.arange(0.6, 1.7, 0.2):\n",
    "        dt, dp = round(t, 1), round(p, 1)\n",
    "        \n",
    "        # Call the predefined function\n",
    "        pe = calculate_fwi_exceed_proba(dt, dp, var, station, threshold)\n",
    "        \n",
    "        # Append the results as a dictionary to facilitate DataFrame creation\n",
    "        results.append({'dt': dt, 'dp': dp, 'PE': pe})\n",
    "\n",
    "# Convert the list of dictionaries to a DataFrame for easy manipulation and analysis\n",
    "df_res = pd.DataFrame(results)"
   ]
  },
  {
   "cell_type": "code",
   "execution_count": 8,
   "id": "2c13b060-ed02-4876-b212-4eb4c4de0412",
   "metadata": {
    "tags": []
   },
   "outputs": [
    {
     "data": {
      "text/html": [
       "<div>\n",
       "<style scoped>\n",
       "    .dataframe tbody tr th:only-of-type {\n",
       "        vertical-align: middle;\n",
       "    }\n",
       "\n",
       "    .dataframe tbody tr th {\n",
       "        vertical-align: top;\n",
       "    }\n",
       "\n",
       "    .dataframe thead th {\n",
       "        text-align: right;\n",
       "    }\n",
       "</style>\n",
       "<table border=\"1\" class=\"dataframe\">\n",
       "  <thead>\n",
       "    <tr style=\"text-align: right;\">\n",
       "      <th></th>\n",
       "      <th>dt</th>\n",
       "      <th>dp</th>\n",
       "      <th>PE</th>\n",
       "    </tr>\n",
       "  </thead>\n",
       "  <tbody>\n",
       "    <tr>\n",
       "      <th>0</th>\n",
       "      <td>0.0</td>\n",
       "      <td>0.6</td>\n",
       "      <td>44.453015</td>\n",
       "    </tr>\n",
       "    <tr>\n",
       "      <th>1</th>\n",
       "      <td>0.0</td>\n",
       "      <td>0.8</td>\n",
       "      <td>31.102253</td>\n",
       "    </tr>\n",
       "    <tr>\n",
       "      <th>2</th>\n",
       "      <td>0.0</td>\n",
       "      <td>1.0</td>\n",
       "      <td>19.844002</td>\n",
       "    </tr>\n",
       "    <tr>\n",
       "      <th>3</th>\n",
       "      <td>0.0</td>\n",
       "      <td>1.2</td>\n",
       "      <td>12.828782</td>\n",
       "    </tr>\n",
       "    <tr>\n",
       "      <th>4</th>\n",
       "      <td>0.0</td>\n",
       "      <td>1.4</td>\n",
       "      <td>8.617145</td>\n",
       "    </tr>\n",
       "    <tr>\n",
       "      <th>5</th>\n",
       "      <td>0.0</td>\n",
       "      <td>1.6</td>\n",
       "      <td>6.910146</td>\n",
       "    </tr>\n",
       "    <tr>\n",
       "      <th>6</th>\n",
       "      <td>1.0</td>\n",
       "      <td>0.6</td>\n",
       "      <td>50.750675</td>\n",
       "    </tr>\n",
       "    <tr>\n",
       "      <th>7</th>\n",
       "      <td>1.0</td>\n",
       "      <td>0.8</td>\n",
       "      <td>36.724551</td>\n",
       "    </tr>\n",
       "    <tr>\n",
       "      <th>8</th>\n",
       "      <td>1.0</td>\n",
       "      <td>1.0</td>\n",
       "      <td>24.988236</td>\n",
       "    </tr>\n",
       "    <tr>\n",
       "      <th>9</th>\n",
       "      <td>1.0</td>\n",
       "      <td>1.2</td>\n",
       "      <td>16.956121</td>\n",
       "    </tr>\n",
       "  </tbody>\n",
       "</table>\n",
       "</div>"
      ],
      "text/plain": [
       "    dt   dp         PE\n",
       "0  0.0  0.6  44.453015\n",
       "1  0.0  0.8  31.102253\n",
       "2  0.0  1.0  19.844002\n",
       "3  0.0  1.2  12.828782\n",
       "4  0.0  1.4   8.617145\n",
       "5  0.0  1.6   6.910146\n",
       "6  1.0  0.6  50.750675\n",
       "7  1.0  0.8  36.724551\n",
       "8  1.0  1.0  24.988236\n",
       "9  1.0  1.2  16.956121"
      ]
     },
     "execution_count": 8,
     "metadata": {},
     "output_type": "execute_result"
    }
   ],
   "source": [
    "# Display the first 10 rows of the DataFrame, which includes columns for Temperature, Precipitation, \n",
    "# and the calculated Probability of Exceeding the FWI Threshold. This provides a quick snapshot of \n",
    "# how changes in temperature and precipitation influence the probability.\n",
    "df_res.head(10)"
   ]
  },
  {
   "cell_type": "markdown",
   "id": "db40def5-7484-47d8-9425-825cb547abd6",
   "metadata": {},
   "source": [
    "### Data visualisation"
   ]
  },
  {
   "cell_type": "markdown",
   "id": "5fc7bf8d-f27b-4396-ba0c-f8df899c8466",
   "metadata": {},
   "source": [
    "#### Impact Response Surface"
   ]
  },
  {
   "cell_type": "code",
   "execution_count": 9,
   "id": "1244d7db-460c-4403-96bf-338b336fe970",
   "metadata": {
    "tags": []
   },
   "outputs": [],
   "source": [
    "### Construct the matrix for IRS using a polynomial model\n",
    "\n",
    "def construct_rs(df, qoi):\n",
    "    # Extract the quantity of interest and reshape for regression\n",
    "    Y_train = np.array(df[qoi]).reshape(-1, 1)\n",
    "    # Convert 'dt' and 'dp' columns to float and stack them for regression features\n",
    "    X_train = np.column_stack([df['dt'].astype(float), df['dp'].astype(float)])\n",
    "    \n",
    "    # Set up sampling grid\n",
    "    p = 500\n",
    "    x1 = np.linspace(X_train[:, 0].min(), X_train[:, 0].max(), p)\n",
    "    x2 = np.linspace(X_train[:, 1].min(), X_train[:, 1].max(), p)\n",
    "    xsample = np.transpose([np.tile(x1, len(x2)), np.repeat(x2, len(x1))])\n",
    "    \n",
    "    # Polynomial regression\n",
    "    poly_features = PolynomialFeatures(degree=4)\n",
    "    X_train_poly = poly_features.fit_transform(X_train)\n",
    "    poly_model = LinearRegression().fit(X_train_poly, Y_train)\n",
    "    \n",
    "    # Predict on the generated grid\n",
    "    mm = poly_model.predict(poly_features.transform(xsample)).reshape(p, p)\n",
    "    \n",
    "    return mm, x1, x2"
   ]
  },
  {
   "cell_type": "markdown",
   "id": "ac4d1bd0-4a7c-4ded-b888-508588ca30e0",
   "metadata": {},
   "source": [
    "Call the construct_rs function with the DataFrame df_res and the 'PE' column as the quantity of interest.\n",
    "The function performs polynomial regression to model the relationship between 'dt' and 'dp' variables and the 'PE' response. It returns a matrix 'mm' containing predicted values across a grid defined by 'x1' and 'x2', where 'x1' are linearly spaced values between the minimum and maximum of 'dt' and 'x2' are similarly spaced for 'dp'.\n",
    "This matrix 'mm' is used to analyze how changes in 'dt' and 'dp' might influence 'PE'."
   ]
  },
  {
   "cell_type": "code",
   "execution_count": 10,
   "id": "92bc1edc-0af3-442d-a091-3df29ade83f6",
   "metadata": {
    "tags": []
   },
   "outputs": [],
   "source": [
    "mm, x1, x2 = construct_rs(df_res, 'PE')"
   ]
  },
  {
   "cell_type": "markdown",
   "id": "a681bbda-ba5e-4145-b6d0-c1cdb2d72786",
   "metadata": {},
   "source": [
    "#### CMIP6 climate projections"
   ]
  },
  {
   "cell_type": "markdown",
   "id": "c27faeaa-60aa-42e0-a65e-46d3dc4d61f6",
   "metadata": {},
   "source": [
    "The script below processes climate projection data for temperature and precipitation from 36 different climate models from CMIP6 ensemble, covering all months of the year. The data, sourced from CSV files, includes temperature (d_tas) and precipitation (d_pr) projections under various climate scenarios. The script dynamically constructs file paths based on parameters such as region, variable type, term, and scenario."
   ]
  },
  {
   "cell_type": "code",
   "execution_count": 11,
   "id": "0535d4c3-da47-4da1-af54-73138e054604",
   "metadata": {
    "tags": []
   },
   "outputs": [],
   "source": [
    "region = 'NEU' # Finland: Northern Europe\n",
    "path_cc = '/home/masg/to_share/climax_fire/data/cmip6_proj'\n",
    "\n",
    "def get_file_path(region, variable, term, scenario):\n",
    "    \"\"\"Constructs the file path for a given variable and term within a scenario.\"\"\"\n",
    "    return f\"{path_cc}/{region}/{variable}/{term}/{scenario}.csv\"\n",
    "\n",
    "def compute_data(file_path, data_column):\n",
    "    \"\"\"Reads specific data from a CSV file, reshapes it, and computes the mean.\"\"\"\n",
    "    data = pd.read_csv(file_path)\n",
    "    data_series = data[data_column]  # Read the specific column from the CSV\n",
    "    reshaped_data = data_series.values.reshape(36, 12).T\n",
    "    data_df = pd.DataFrame(reshaped_data)\n",
    "    return data_df.mean(axis=0)\n",
    "\n",
    "def derive_cloud_cc_proj(region, term, scenario='ssp245'):\n",
    "    \"\"\"Processes climate data for temperature and precipitation, returning their means.\"\"\"\n",
    "    var_data_columns = {'tas': 'd_tas', 'pr': 'd_pr'}\n",
    "    results = []\n",
    "\n",
    "    for variable, data_column in var_data_columns.items():\n",
    "        file_path = get_file_path(region, variable, term, scenario)\n",
    "        mean_values = compute_data(file_path, data_column)\n",
    "        results.append(mean_values)\n",
    "    \n",
    "    t_mean, p_mean = results\n",
    "    p_mean += 1  \n",
    "    return t_mean, p_mean\n",
    "\n",
    "t_mean_mt, p_mean_mt = derive_cloud_cc_proj(region, 'mid_term')\n",
    "t_mean_lt, p_mean_lt = derive_cloud_cc_proj(region, 'long_term')\n",
    "\n",
    "### Optionally, print the results:\n",
    "# print(\"Mid Term Temperature Mean: \\n\", t_mean_mt)\n",
    "# print(\"Mid Term Precipitation Mean Incremented: \\n\", p_mean_mt)\n",
    "# print(\"Long Term Temperature Mean: \\n\", t_mean_lt)\n",
    "# print(\"Long Term Precipitation Mean Incremented: \\n\", p_mean_lt)"
   ]
  },
  {
   "cell_type": "code",
   "execution_count": 12,
   "id": "04fa5f87-fb4d-4186-8932-58746102b70a",
   "metadata": {
    "tags": []
   },
   "outputs": [],
   "source": [
    "def plot_exceed_proba(mm, x1, x2, t_mean, p_mean, term, station_index, threshold):\n",
    "    plt.cla()\n",
    "    levels = list(range(10, 100, 10))\n",
    "    vmin, vmax, vlut = 0, 100, 10\n",
    "\n",
    "    # Define the period label based on the term argument\n",
    "    period_label, marker_style, cmap_style = ('2036-2065', 'go', 'Greens_d') if term == 'mid_term' else ('2070-2099', 'm^', 'Purples_d')\n",
    "\n",
    "    # Contour and heat map plotting\n",
    "    contours = plt.contour(x1, x2, mm, levels, colors='black')\n",
    "    plt.clabel(contours, inline=True, fontsize=11)\n",
    "    cmap = cm.get_cmap(\"YlOrBr\", lut=vlut)\n",
    "    plt.pcolormesh(x1, x2, mm, cmap=cmap, vmin=vmin, vmax=vmax, shading='auto')\n",
    "    cbar = plt.colorbar(boundaries=list(range(vmin, vmax + 10, 10)))\n",
    "    cbar.ax.tick_params(labelsize=7)\n",
    "\n",
    "    # Assign station names based on index\n",
    "    exact_names = ['Vantaa', 'Jokioinen', 'Jyväskylä', 'Sodankylä']\n",
    "    exact_name = exact_names[station_index]\n",
    "\n",
    "    plt.title(f\"Probability of Exceeding an FWI threshold of {threshold} \\n at {exact_name}\", fontsize=12)\n",
    "    plt.xlabel('Temperature change [°C]')\n",
    "    plt.ylabel('Precipitation change [%]')\n",
    "\n",
    "    # KDE plot for projections\n",
    "    sns.kdeplot(x=t_mean, y=p_mean, cmap=cmap_style, shade=True, levels=50, thresh=0.0001, vmax=np.mean(p_mean))\n",
    "    plt.plot(t_mean, p_mean, marker_style, markersize=4, label=f'{period_label} \\n CMIP6 projections')\n",
    "    plt.plot(np.mean(t_mean), np.mean(p_mean), marker='o', color=\"tomato\", markersize=10)\n",
    "\n",
    "    # Adjust y-ticks\n",
    "    locs, labels = plt.yticks()\n",
    "    labels = [int(round((i - 1) * 100, 0)) for i in locs]\n",
    "    plt.yticks(locs, labels, rotation='vertical')\n",
    "\n",
    "    plt.plot(0, 1, color='black', marker='o', markersize=10)\n",
    "    plt.ylim(0.55, 1.65)\n",
    "    plt.xlim(-0.2, 6.2)\n",
    "    plt.legend()\n",
    "    plt.show()"
   ]
  },
  {
   "cell_type": "code",
   "execution_count": 13,
   "id": "d1d12414-9953-4de9-b93b-9605e2a349c5",
   "metadata": {
    "tags": []
   },
   "outputs": [
    {
     "data": {
      "image/png": "[encoded data removed]",
      "text/plain": [
       "<Figure size 432x288 with 2 Axes>"
      ]
     },
     "metadata": {
      "needs_background": "light"
     },
     "output_type": "display_data"
    },
    {
     "data": {
      "image/png": "[encoded data removed]",
      "text/plain": [
       "<Figure size 432x288 with 2 Axes>"
      ]
     },
     "metadata": {
      "needs_background": "light"
     },
     "output_type": "display_data"
    }
   ],
   "source": [
    "### Example usage with the specific FWI threshold in the title\n",
    "## mid term\n",
    "plot_exceed_proba(mm, x1, x2, t_mean_mt, p_mean_mt, 'mid_term', station_index=station_index, threshold=threshold)\n",
    "## long term\n",
    "plot_exceed_proba(mm, x1, x2, t_mean_lt, p_mean_lt, 'long_term', station_index=station_index, threshold=threshold)"
   ]
  },
  {
   "cell_type": "markdown",
   "id": "419bb6ec-b574-4371-b914-9dfc9c91844c",
   "metadata": {},
   "source": [
    "#### Interpretation\n",
    "The IRS (Impact Response Surface) output represents how changes in temperature and precipitation affect the probability of exceeding a specific FWI threshold, in this example 30. The contour and pcolormesh plots illustrate the interaction between these two climatic factors. In these plots, temperature change is represented on the x-axis and precipitation change on the y-axis, with the resulting probabilities depicted through variations in color. The darker or more intense the color, the higher the probability of exceeding the FWI threshold. Contour lines are superimposed to delineate areas of equal probability. Additionally, the CMIP6 projections for both mid-term and long-term scenarios are superimposed on the IRS to assess the likelihood of exceeding critical thresholds in fire weather conditions as climate variables shift. "
   ]
  }
 ],
 "metadata": {
  "kernelspec": {
   "display_name": "metview_python",
   "language": "python",
   "name": "metview_python"
  },
  "language_info": {
   "codemirror_mode": {
    "name": "ipython",
    "version": 3
   },
   "file_extension": ".py",
   "mimetype": "text/x-python",
   "name": "python",
   "nbconvert_exporter": "python",
   "pygments_lexer": "ipython3",
   "version": "3.8.12"
  }
 },
 "nbformat": 4,
 "nbformat_minor": 5
}
